{
 "cells": [
  {
   "cell_type": "markdown",
   "id": "385ee906",
   "metadata": {},
   "source": [
    "Código em Pyhton para conectar a API IBGE, buscando nome, id dos estados e nomes de pessoas, \n",
    "e em seguida correlacionar e verificar a frequencia em que esses nomes são encontrados nos respectivos estados."
   ]
  },
  {
   "cell_type": "code",
   "execution_count": null,
   "id": "ee5d2a30",
   "metadata": {},
   "outputs": [],
   "source": [
    "#Instalando as dependências necessárias \n",
    "!pip install requests\n"
   ]
  },
  {
   "cell_type": "code",
   "execution_count": 80,
   "id": "4e9602d8",
   "metadata": {},
   "outputs": [],
   "source": [
    "#importando as bibliotecas necessárias\n",
    "import requests\n",
    "from pprint import pprint\n",
    "import json"
   ]
  },
  {
   "cell_type": "code",
   "execution_count": 89,
   "id": "75deb8b8",
   "metadata": {},
   "outputs": [
    {
     "name": "stdout",
     "output_type": "stream",
     "text": [
      "Frequência do nome Eder nos Estados (por 100 mil habitantes):\n",
      "Rondônia: 56.39\n",
      "Acre: 16.77\n",
      "Amazonas: 33.61\n",
      "Roraima: 24.64\n",
      "Pará: 35.87\n",
      "Amapá: 38.24\n",
      "Tocantins: 19.30\n",
      "Maranhão: 5.73\n",
      "Piauí: 5.93\n",
      "Ceará: 8.18\n",
      "Rio Grande do Norte: 9.12\n",
      "Paraíba: 7.12\n",
      "Pernambuco: 8.36\n",
      "Alagoas: 5.96\n",
      "Sergipe: 9.33\n",
      "Bahia: 16.77\n",
      "Minas Gerais: 61.91\n",
      "Espírito Santo: 33.23\n",
      "Rio de Janeiro: 13.65\n",
      "São Paulo: 52.83\n",
      "Paraná: 62.53\n",
      "Santa Catarina: 58.06\n",
      "Rio Grande do Sul: 69.82\n",
      "Mato Grosso do Sul: 107.02\n",
      "Mato Grosso: 72.12\n",
      "Goiás: 44.27\n",
      "Distrito Federal: 28.71\n"
     ]
    }
   ],
   "source": [
    "def pegar_ids_estados(): #Função para pegar os IDs e nomes dos estados brasileiros\n",
    "    url = 'https://servicodados.ibge.gov.br/api/v1/localidades/estados'\n",
    "\n",
    "    params = {\n",
    "    'view' : 'nivelado', #Retorna os dados de forma mais detalhada\n",
    "    }\n",
    "    dados_estados = fazer_request(url=url, params=params)\n",
    "    dict_estado = {}\n",
    "    for dados in dados_estados:\n",
    "        id_estado = dados['UF-id']\n",
    "        nome_estado = dados['UF-nome']\n",
    "        dict_estado[id_estado] = nome_estado\n",
    "    return dict_estado\n",
    "\n",
    "def pegar_frequancia_nome_por_estado(nome): #Função para pegar a frequência de um nome por estado\n",
    "    url = f'https://servicodados.ibge.gov.br/api/v2/censos/nomes/{nome}'\n",
    "    \n",
    "    params = {\n",
    "        'groupBy': 'UF',  #Agrupa os dados por Unidade Federativa (UF)\n",
    "    }\n",
    "    dados_frequencias = fazer_request(url=url, params=params)\n",
    "    dict_frequencias = {}\n",
    "    for dados in dados_frequencias:\n",
    "        id_estado = int(dados['localidade'])\n",
    "        frequencia = dados['res'][0]['proporcao']\n",
    "        dict_frequencias[id_estado] = frequencia\n",
    "    return dict_frequencias\n",
    "\n",
    "def fazer_request(url, params=None): #Função para fazer a requisição à API\n",
    "    response = requests.get(url, params=params)\n",
    "    try:\n",
    "        response.raise_for_status()\n",
    "    except requests.exceptions.HTTPError as err:\n",
    "        print(f'HTTP error occurred: {err}')\n",
    "        return None\n",
    "    else:\n",
    "        return response.json()\n",
    "    \n",
    "def main(nome): #Função principal que chama as outras funções e exibe os resultados\n",
    "    dict_estados = pegar_ids_estados()\n",
    "    dict_frequencias = pegar_frequancia_nome_por_estado(nome)\n",
    "    print(f'Frequência do nome {nome} nos Estados (por 100 mil habitantes):')\n",
    "    for id_estado, nome_estado in dict_estados.items():\n",
    "        frequencia = dict_frequencias[id_estado]\n",
    "        print(f'{nome_estado}: {frequencia:.2f}')\n",
    "\n",
    "\n",
    "if __name__ == '__main__': #Chamada da função main com o nome desejado\n",
    "  main('Eder')\n",
    "\n",
    " "
   ]
  }
 ],
 "metadata": {
  "kernelspec": {
   "display_name": "base",
   "language": "python",
   "name": "python3"
  },
  "language_info": {
   "codemirror_mode": {
    "name": "ipython",
    "version": 3
   },
   "file_extension": ".py",
   "mimetype": "text/x-python",
   "name": "python",
   "nbconvert_exporter": "python",
   "pygments_lexer": "ipython3",
   "version": "3.12.4"
  }
 },
 "nbformat": 4,
 "nbformat_minor": 5
}
